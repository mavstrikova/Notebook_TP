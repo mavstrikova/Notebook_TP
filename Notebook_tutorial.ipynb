{
 "cells": [
  {
   "cell_type": "markdown",
   "metadata": {},
   "source": [
    "# <b>Welcom to Jupyter Notebook</b>"
   ]
  },
  {
   "cell_type": "markdown",
   "metadata": {},
   "source": [
    "Project Jupyter is a non-profit, open-source project, born out of the IPython Project in 2014 as it evolved to support interactive data science and scientific computing across all programming languages. Nowadays Jupyter supports over 40 programming languages, including Python, R, Julia, and Scala. \n",
    "</br> Today we will have a little tutorial using Python."
   ]
  },
  {
   "cell_type": "markdown",
   "metadata": {},
   "source": [
    "<b>Python</b> is one of the most popular high-level programming languages. It was created by Guido van Rossum, and released in 1991. </br> The language is named after the Monty Python comedy troupe :)"
   ]
  },
  {
   "cell_type": "markdown",
   "metadata": {},
   "source": [
    "<b>Python is commonly used for: </b>\n",
    "- web development\n",
    "- software development\n",
    "- system scripting\n",
    "- data analysis (including machine learning) and data visualization "
   ]
  },
  {
   "cell_type": "markdown",
   "metadata": {},
   "source": [
    "<b>Advantages of Python:</b>\n",
    "- works on different platforms (Windows, Mac, Linux, etc.)\n",
    "- has a simple syntax similar to the English language\n",
    "- runs on an interpreter system, meaning that code can be executed as soon as it is written\n",
    "- can be treated in a procedural way, an object-oriented way or a functional way\n",
    "- has a lot of pre-existing modules (a.k.a. libraries) that contain already defined functions for different tasks"
   ]
  },
  {
   "cell_type": "markdown",
   "metadata": {},
   "source": [
    "The <b>Jupyter Notebook</b> is a web application that allows you to create and share documents that contain live code, equations, visualizations and narrative text. </br> <b>Jupyter Notebooks</b> are also referred as a document format based on JSON (JavaScript Object Notation). They contain a complete record of the user's sessions."
   ]
  },
  {
   "cell_type": "markdown",
   "metadata": {},
   "source": [
    "## Let's take a look at the interface"
   ]
  },
  {
   "cell_type": "markdown",
   "metadata": {},
   "source": [
    "<img src=\"https://raw.githubusercontent.com/mavstrikova/Notebook_TP/main/Slide1.jpg\">"
   ]
  },
  {
   "cell_type": "markdown",
   "metadata": {},
   "source": [
    "To execute the cell you can also use a shortcut <code>Shift + Enter</code> </br> Try to run the following cell:"
   ]
  },
  {
   "cell_type": "code",
   "execution_count": null,
   "metadata": {},
   "outputs": [],
   "source": [
    "print('Hello world!')"
   ]
  },
  {
   "cell_type": "markdown",
   "metadata": {},
   "source": [
    "Now try to add below your own cell and introduce yourself (e.g. print \"Hello! My name is ...\")"
   ]
  },
  {
   "cell_type": "markdown",
   "metadata": {},
   "source": [
    "# <b>Data analysis with Jupyter notebook</b>"
   ]
  },
  {
   "cell_type": "markdown",
   "metadata": {},
   "source": [
    "Now let's try to repeat your previous analysis task using Python"
   ]
  },
  {
   "cell_type": "markdown",
   "metadata": {},
   "source": [
    "## <b>Step 0. Load libraries</b>"
   ]
  },
  {
   "cell_type": "markdown",
   "metadata": {},
   "source": [
    "Python has a lot of libraries that contain already pre-coded functions that are convenient to use. These libraries can be external (published online) or you can create your own collection of functions. </br> <i>Little tip: before coding your own function do not hesitate to Google if there is a library relevant for your task</i>"
   ]
  },
  {
   "cell_type": "markdown",
   "metadata": {},
   "source": [
    "To apply functions from the library in your code it is needed to import them, to do so run the following cell"
   ]
  },
  {
   "cell_type": "code",
   "execution_count": null,
   "metadata": {},
   "outputs": [],
   "source": [
    "import os #library to interact with LINUX\n",
    "import pandas as pd #liprary to import and analyze data\n",
    "import numpy as np #library for scientific computing\n",
    "import matplotlib.pyplot as plt #plotting tools"
   ]
  },
  {
   "cell_type": "markdown",
   "metadata": {},
   "source": [
    "You can find more details on this libraries online:\n",
    "- os          https://docs.python.org/3/library/os.html\n",
    "- pandas      https://pandas.pydata.org/pandas-docs/stable/index.html\n",
    "- numpy       https://numpy.org/doc/stable/index.html\n",
    "- matplotlib  https://matplotlib.org/stable/index.html"
   ]
  },
  {
   "cell_type": "markdown",
   "metadata": {},
   "source": [
    "## <b> Step 1. Produce & import data </b>"
   ]
  },
  {
   "cell_type": "markdown",
   "metadata": {},
   "source": [
    "First of all, we need to identify the list of directories to iterate through. To do so we will use the function <code>os.listdir()</code>. This function will create a list containing the content of the current folder."
   ]
  },
  {
   "cell_type": "code",
   "execution_count": null,
   "metadata": {},
   "outputs": [],
   "source": [
    "lst = os.listdir('./')\n",
    "print(lst)"
   ]
  },
  {
   "cell_type": "markdown",
   "metadata": {},
   "source": [
    "</br>But how can we select only the directories we are interested in?</br>"
   ]
  },
  {
   "cell_type": "code",
   "execution_count": null,
   "metadata": {},
   "outputs": [],
   "source": [
    "runs = [i for i in os.listdir('./') if i[0:3]=='???'] #Get names of run folders\n",
    "runs.sort() #Sort by name\n",
    "print(runs)"
   ]
  },
  {
   "cell_type": "markdown",
   "metadata": {},
   "source": [
    "</br>Now let's produce dd.out files for each run:"
   ]
  },
  {
   "cell_type": "code",
   "execution_count": null,
   "metadata": {},
   "outputs": [],
   "source": [
    "#Iterate through directories and execute plumed command line\n",
    "for i in runs:\n",
    "    cmd = 'cd ./'+i+'; plumed driver --plumed ../anal/plumed.dat --mf_xtc ./noPBC.xtc > /dev/null; cd ../' #Generate command that we want to run in terminal\n",
    "    print(cmd) #print the command\n",
    "    os.system(cmd) #exicute the command"
   ]
  },
  {
   "cell_type": "markdown",
   "metadata": {},
   "source": [
    "</br>To read files we will use <code>pandas.read_csv()</code> function. Like this, we create the data frame containing the data."
   ]
  },
  {
   "cell_type": "code",
   "execution_count": null,
   "metadata": {},
   "outputs": [],
   "source": [
    "pd.read_csv('./run01/dd.out', sep ='\\s+', skiprows=[0], names = ['Time', 'Distance'])"
   ]
  },
  {
   "cell_type": "markdown",
   "metadata": {},
   "source": [
    "</br>Now let's read all the files and put them together in dictionary."
   ]
  },
  {
   "cell_type": "code",
   "execution_count": null,
   "metadata": {},
   "outputs": [],
   "source": [
    "data = {} #Create empty dictionary\n",
    "#Iteratively read tables and write down into the dictionary\n",
    "for i in runs:\n",
    "    data[i] = pd.read_csv('./'+i+'/dd.out', sep ='\\s+', skiprows=[0], names = ['Time', 'Distance'])"
   ]
  },
  {
   "cell_type": "code",
   "execution_count": null,
   "metadata": {},
   "outputs": [],
   "source": [
    "print(data)"
   ]
  },
  {
   "cell_type": "markdown",
   "metadata": {},
   "source": [
    "## <b>Step 2. Plot data</b>"
   ]
  },
  {
   "cell_type": "markdown",
   "metadata": {},
   "source": [
    "To plot our data we will use <code>matplotlib.pyplot.plot()</code> function. </br> Let's first identify what will be the X and Y axis. <i>Hint: refer to column names in your table</i>"
   ]
  },
  {
   "cell_type": "code",
   "execution_count": null,
   "metadata": {},
   "outputs": [],
   "source": [
    "X = 'WHAT WILL BE YOUR X AXIS'\n",
    "Y = 'WHAT WILL BE YOUR Y AXIS'"
   ]
  },
  {
   "cell_type": "code",
   "execution_count": null,
   "metadata": {},
   "outputs": [],
   "source": [
    "plt.plot(data['run01'][X],data['run01'][Y]) #Plot for run01"
   ]
  },
  {
   "cell_type": "markdown",
   "metadata": {},
   "source": [
    "Now let's try to plot everything together."
   ]
  },
  {
   "cell_type": "code",
   "execution_count": null,
   "metadata": {},
   "outputs": [],
   "source": [
    "fig, ax = plt.subplots(figsize = [15, 8]) #Create figure object and define size\n",
    "#Iteratively plot data for each run\n",
    "for i in runs:\n",
    "    plt.plot(data[i][X], data[i][Y], label = i)\n",
    "#Print axis labels\n",
    "plt.xlabel(X)\n",
    "plt.ylabel(Y)\n",
    "#print plot legend\n",
    "plt.legend() "
   ]
  },
  {
   "cell_type": "markdown",
   "metadata": {},
   "source": [
    "</br>Looks a bit messy, isn't it? </br> Try to select data for your plot so that you will represent two distinct states and one trajectory where transition occures."
   ]
  },
  {
   "cell_type": "code",
   "execution_count": null,
   "metadata": {},
   "outputs": [],
   "source": [
    "fig, ax = plt.subplots(figsize = [15, 8])\n",
    "plt.plot(data['run??'][X], data['run??'][Y], label = 'run??')\n",
    "plt.plot(data['run??'][X], data['run??'][Y], label = 'run??')\n",
    "plt.plot(data['run??'][X], data['run??'][Y], label = 'run??')\n",
    "#Print axis labels\n",
    "plt.xlabel(X)\n",
    "plt.ylabel(Y)\n",
    "#print plot legend\n",
    "plt.legend() \n",
    "#save figure\n",
    "plt.savefig('my_beautiful_plot.png')"
   ]
  },
  {
   "cell_type": "markdown",
   "metadata": {},
   "source": [
    "## <b>Step 3.Compute average value </b>"
   ]
  },
  {
   "cell_type": "markdown",
   "metadata": {},
   "source": [
    "We will use <code>numpy.mean()</code> function to compute average distance."
   ]
  },
  {
   "cell_type": "code",
   "execution_count": null,
   "metadata": {},
   "outputs": [],
   "source": [
    "np.mean(data['run01']['Distance'])"
   ]
  },
  {
   "cell_type": "markdown",
   "metadata": {},
   "source": [
    "To store average distances for all runs let's put them in a dictionary. </br> <i>Hint: We already created dictionary at STEP 1 try to do it yourself now </i>"
   ]
  },
  {
   "cell_type": "code",
   "execution_count": null,
   "metadata": {},
   "outputs": [],
   "source": [
    "averages = {}\n",
    "for i in runs:\n",
    "    ## PUT YOUR CODE BELOW ##"
   ]
  },
  {
   "cell_type": "code",
   "execution_count": null,
   "metadata": {},
   "outputs": [],
   "source": [
    "print(averages)"
   ]
  },
  {
   "cell_type": "markdown",
   "metadata": {},
   "source": [
    "</br> Now let's put it in the data frame and save as .csv file"
   ]
  },
  {
   "cell_type": "code",
   "execution_count": null,
   "metadata": {},
   "outputs": [],
   "source": [
    "pd.DataFrame.from_dict(averages, orient='index', columns=['Average distance'])"
   ]
  },
  {
   "cell_type": "code",
   "execution_count": null,
   "metadata": {},
   "outputs": [],
   "source": [
    "avg = pd.DataFrame.from_dict(averages, orient='index', columns=['Average distance']) \n",
    "avg.to_csv('average_dist.csv') #save data frame as .csv"
   ]
  },
  {
   "cell_type": "markdown",
   "metadata": {},
   "source": [
    "# Congratulations this is the end of tutorial!"
   ]
  },
  {
   "cell_type": "markdown",
   "metadata": {},
   "source": [
    "P.S. If you got interested, I can recommend you some useful links:\n",
    "- Python course for beginners: https://www.coursera.org/learn/python?specialization=python\n",
    "- Tutorial on data analysis with pandas: https://mlcourse.ai/articles/topic1-exploratory-data-analysis-with-pandas/\n",
    "- Tutorial on plotting data with matplotlib: https://matplotlib.org/stable/tutorials/introductory/pyplot.html\n",
    "- More about Python application in chemistry: https://pythoninchemistry.org/"
   ]
  },
  {
   "cell_type": "markdown",
   "metadata": {},
   "source": [
    "<center><i>This nice tutorial was created by</br> Mariia Avstrikova </i></center>"
   ]
  }
 ],
 "metadata": {
  "kernelspec": {
   "display_name": "Python 3",
   "language": "python",
   "name": "python3"
  },
  "language_info": {
   "codemirror_mode": {
    "name": "ipython",
    "version": 3
   },
   "file_extension": ".py",
   "mimetype": "text/x-python",
   "name": "python",
   "nbconvert_exporter": "python",
   "pygments_lexer": "ipython3",
   "version": "3.8.5"
  }
 },
 "nbformat": 4,
 "nbformat_minor": 4
}
